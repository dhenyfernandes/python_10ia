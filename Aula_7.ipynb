{
 "cells": [
  {
   "cell_type": "markdown",
   "metadata": {},
   "source": [
    "# Regressão Linear Univariada"
   ]
  },
  {
   "cell_type": "code",
   "execution_count": null,
   "metadata": {},
   "outputs": [],
   "source": [
    "import pandas as pd # para leitura de base de dados e manipulação de data frame\n",
    "import numpy as np # para álgebra linear\n",
    "import altair as alt # para plotar gráficos"
   ]
  },
  {
   "cell_type": "code",
   "execution_count": null,
   "metadata": {},
   "outputs": [],
   "source": [
    "class LinearRegression():\n",
    "    \n",
    "    def __init__(self,alpha,iterations):\n",
    "        self.alpha = alpha\n",
    "        self.iterations = iterations\n",
    "    \n",
    "    def cost_function(self,X,y,theta):\n",
    "        m = len(y) #número de amostras\n",
    "        J = 0 # custo\n",
    "        \n",
    "        for i in range(m):\n",
    "            J = J + np.power((theta[0] + theta[1] * X[1][i] - y[i]),2)\n",
    "        \n",
    "        return J*(1/(2*m))\n",
    "    \n",
    "    def gradient_descent(self,X,y,theta):\n",
    "        #import pdb; pdb.set_trace()\n",
    "        m = len(y)\n",
    "        J_history = np.zeros(self.iterations)\n",
    "        temp0 = 0\n",
    "        temp1 = 0\n",
    "        \n",
    "        for k in range(self.iterations):\n",
    "        \n",
    "            for i in range(m):\n",
    "                temp0 = temp0 - self.alpha * (1/m * (theta[0] + theta[1] * X[1][i] - y[i]))\n",
    "                temp1 = temp1 - self.alpha * (1/m * (theta[0] + theta[1] * X[1][i] - y[i]))*X[1][i]\n",
    "                theta[0] = temp0\n",
    "                theta[1] = temp1\n",
    "                \n",
    "            J_history[k] = self.cost_function(X,y,theta)\n",
    "    \n",
    "        return theta,J_history"
   ]
  },
  {
   "cell_type": "code",
   "execution_count": null,
   "metadata": {},
   "outputs": [],
   "source": [
    "# se estiver usando google colab\n",
    "# from google.colab import drive\n",
    "# drive.mount('/content/drive')"
   ]
  },
  {
   "cell_type": "code",
   "execution_count": null,
   "metadata": {},
   "outputs": [],
   "source": [
    "# df_beer = pd.read_csv('/content/drive/My Drive/datasets/profit.txt',header=None,names=['size','profit'])\n",
    "# df_beer.head()"
   ]
  },
  {
   "cell_type": "code",
   "execution_count": null,
   "metadata": {},
   "outputs": [],
   "source": [
    "data = pd.read_csv('bases/profit.txt',header=None,names=['size','profit']) # faz a leitura dos dados\n",
    "data.head() #mostra as 5 primeiras linhas"
   ]
  },
  {
   "cell_type": "code",
   "execution_count": null,
   "metadata": {},
   "outputs": [],
   "source": [
    "data_plot = alt.Chart(data).mark_circle(size=60).encode(\n",
    "    x='size:Q',\n",
    "    y='profit:Q'\n",
    ")\n",
    "data_plot"
   ]
  },
  {
   "cell_type": "code",
   "execution_count": null,
   "metadata": {},
   "outputs": [],
   "source": [
    "#Preparando os dados\n",
    "x = data.iloc[0:,0:1] #dados de treinamento\n",
    "ones = np.ones(len(data)) \n",
    "x.insert(0,len(x.columns) + 1,ones)\n",
    "y = data.iloc[:,1]\n",
    "theta = np.zeros(len(x.columns))\n",
    "x.columns = range(x.shape[1])"
   ]
  },
  {
   "cell_type": "code",
   "execution_count": null,
   "metadata": {},
   "outputs": [],
   "source": [
    "#treinando o modelo\n",
    "iterations = 1500\n",
    "alpha = 0.01\n",
    "lr = LinearRegression(alpha,iterations)\n",
    "custo = lr.cost_function(x,y,theta)\n",
    "print('Custo inicial: ',custo, '\\n')\n",
    "theta_lr, custo_h = lr.gradient_descent(x,y,theta)\n",
    "print('Valores de theta_0 e theta_1: ',theta_lr)\n",
    "print('Custo final: ',custo_h[-1])"
   ]
  },
  {
   "cell_type": "code",
   "execution_count": null,
   "metadata": {},
   "outputs": [],
   "source": [
    "#predizendo os dados de treinamento\n",
    "#para ver qual a reta que a Regressão gerou\n",
    "y_hat = np.matmul(x.values,theta_lr) #retorna o profit predito para cada tamanho de população de x\n",
    "fit_plot = pd.DataFrame({'X':x[1],'Y':y_hat}) #dados para plotar nossa reta\n",
    "plot_reta = alt.Chart(fit_plot).mark_line(color='red').encode(\n",
    "    x=alt.X('X',axis=alt.Axis(title='population')),\n",
    "    y=alt.Y('Y',axis=alt.Axis(title='profit'))\n",
    ")\n",
    "data_plot + plot_reta"
   ]
  },
  {
   "cell_type": "code",
   "execution_count": null,
   "metadata": {},
   "outputs": [],
   "source": [
    "#predizendo novas amostras\n",
    "pred_1 = x[0][0] * theta_lr[0] + x[1][0] * theta_lr[1] #como funciona a predição\n",
    "print(pred_1,'\\n')\n",
    "\n",
    "pred_2 = 1 * theta_lr[0] + 14 * theta_lr[1]\n",
    "print('predição: ',pred_2)"
   ]
  },
  {
   "cell_type": "code",
   "execution_count": null,
   "metadata": {},
   "outputs": [],
   "source": [
    "fit_plot"
   ]
  },
  {
   "cell_type": "code",
   "execution_count": null,
   "metadata": {},
   "outputs": [],
   "source": [
    "it = list(range(1,1501))\n",
    "df_custo = pd.DataFrame({'Iteracoes':it,'Custo':custo_h})"
   ]
  },
  {
   "cell_type": "code",
   "execution_count": null,
   "metadata": {},
   "outputs": [],
   "source": [
    "alt.Chart(df_custo).mark_line(color='red').encode(\n",
    "    x=alt.X('Iteracoes',axis=alt.Axis(title='Iterações')),\n",
    "    y=alt.Y('Custo',axis=alt.Axis(title='Custo'))\n",
    ")"
   ]
  },
  {
   "cell_type": "markdown",
   "metadata": {},
   "source": [
    "# Dataset para Regressão Linear Multivariada"
   ]
  },
  {
   "cell_type": "code",
   "execution_count": null,
   "metadata": {},
   "outputs": [],
   "source": [
    "# se estiver usando google colab\n",
    "# df_beer = pd.read_csv('/content/drive/My Drive/datasets/Consumo_cerveja.csv',nrows=365,delimiter=';')\n",
    "# df_beer.head()"
   ]
  },
  {
   "cell_type": "code",
   "execution_count": null,
   "metadata": {},
   "outputs": [],
   "source": [
    "df_beer = pd.read_csv('bases/consumo_cerveja.csv',nrows=365,delimiter=';')\n",
    "df_beer.head()"
   ]
  },
  {
   "cell_type": "code",
   "execution_count": null,
   "metadata": {},
   "outputs": [],
   "source": [
    "from sklearn.model_selection import train_test_split #para criar conjunto de treino e teste\n",
    "#alterando nome das colunas para facilitar manipulação\n",
    "df_beer = df_beer.rename(columns={'Temperatura Media (C)':'meanTemp','Temperatura Minima (C)':'minTemp','Temperatura Maxima (C)':'maxTemp',\n",
    "                       'Precipitacao (mm)':'precip','Final de Semana':'weekend','Consumo de cerveja (litros)':'consumo'})\n",
    "\n",
    "#selecionando as colunas serem usadas como features para treinar o modelo\n",
    "#selecionando a coluna meta, ou seja, aquela que eu quero predizer\n",
    "feature_col = ['maxTemp','precip','weekend']\n",
    "meta_col = ['consumo']\n",
    "\n",
    "X = df_beer[feature_col].values\n",
    "y = df_beer[meta_col].values.ravel()\n",
    "\n",
    "#adicionando nova coluna para multiplicação\n",
    "ones = np.ones([X.shape[0],1])\n",
    "X = np.concatenate((ones, X), axis=1)\n",
    "m, n = np.shape(X) #quantidade de amostras x quantidade de características\n",
    "\n",
    "split_test_size = 0.30\n",
    "X_train, X_test, y_train, y_test = train_test_split(X, y, test_size=split_test_size, random_state=42)"
   ]
  },
  {
   "cell_type": "code",
   "execution_count": null,
   "metadata": {},
   "outputs": [],
   "source": [
    "n"
   ]
  },
  {
   "cell_type": "markdown",
   "metadata": {},
   "source": [
    "# Regressão Linear Multivariada"
   ]
  },
  {
   "cell_type": "code",
   "execution_count": null,
   "metadata": {},
   "outputs": [],
   "source": [
    "class LinearRegressionMultivariate():\n",
    "    \n",
    "    def __init__(self,alpha,iterations):\n",
    "        self.alpha = alpha\n",
    "        self.iterations = iterations\n",
    "        \n",
    "    \n",
    "    def cost_function(self,X,y,theta):\n",
    "        m = len(y) #número de amostras\n",
    "        J = 0 # custo\n",
    "        \n",
    "        J = np.sum(np.square(np.dot(X, theta) - y))\n",
    "        return J*(1/(2*m))\n",
    "    \n",
    "    def gradient_descent(self, X, y, theta):\n",
    "        m = len(y)\n",
    "        J_history = np.zeros(self.iterations)\n",
    "        \n",
    "        for k in range(self.iterations):   \n",
    "            hypothesis = np.dot(X, theta)\n",
    "            loss = hypothesis - y\n",
    "            gradient = np.dot(X.transpose(), loss) / m\n",
    "            theta = theta - self.alpha * gradient\n",
    "            J_history[k] = self.cost_function(X, y, theta)\n",
    "            \n",
    "        return theta, J_history"
   ]
  },
  {
   "cell_type": "code",
   "execution_count": null,
   "metadata": {},
   "outputs": [],
   "source": [
    "#treinando\n",
    "alpha = 0.001\n",
    "iterations = 100000\n",
    "lr_geral = LinearRegressionMultivariate(alpha,iterations)\n",
    "theta = np.zeros(n)\n",
    "theta_lr, custo_h = lr_geral.gradient_descent(X_train, y_train, theta)\n",
    "theta_lr #valores finais de theta"
   ]
  },
  {
   "cell_type": "code",
   "execution_count": null,
   "metadata": {},
   "outputs": [],
   "source": [
    "X_train.shape"
   ]
  },
  {
   "cell_type": "code",
   "execution_count": null,
   "metadata": {},
   "outputs": [],
   "source": [
    "theta.shape"
   ]
  },
  {
   "cell_type": "code",
   "execution_count": null,
   "metadata": {},
   "outputs": [],
   "source": [
    "#testando com novas amostras\n",
    "pred_value = [1,35,0,1]\n",
    "np.dot(pred_value,theta_lr)"
   ]
  },
  {
   "cell_type": "code",
   "execution_count": null,
   "metadata": {},
   "outputs": [],
   "source": [
    "n"
   ]
  },
  {
   "cell_type": "markdown",
   "metadata": {},
   "source": [
    "# Regressão Linear usando Scikit-Learn"
   ]
  },
  {
   "cell_type": "code",
   "execution_count": null,
   "metadata": {},
   "outputs": [],
   "source": [
    "from sklearn import linear_model\n",
    "from sklearn.metrics import mean_squared_error"
   ]
  },
  {
   "cell_type": "code",
   "execution_count": null,
   "metadata": {},
   "outputs": [],
   "source": [
    "#separando os dados em conjunto de treino e teste\n",
    "#treinando o modelo\n",
    "mlr_skl = linear_model.LinearRegression()\n",
    "mlr_skl.fit(X_train, y_train.ravel()) # flatten arrays"
   ]
  },
  {
   "cell_type": "code",
   "execution_count": null,
   "metadata": {},
   "outputs": [],
   "source": [
    "y_pred = mlr_skl.predict(X_test) # predizando\n",
    "print(mean_squared_error(y_test,y_pred)) # MSE\n",
    "mlr_skl.coef_  #valores finais de theta"
   ]
  },
  {
   "cell_type": "code",
   "execution_count": null,
   "metadata": {},
   "outputs": [],
   "source": [
    "#testando com novas amostras\n",
    "pred_value = [[1,35,0,1]]\n",
    "mlr_skl.predict(pred_value)"
   ]
  },
  {
   "cell_type": "markdown",
   "metadata": {},
   "source": [
    "# Equação Normal"
   ]
  },
  {
   "cell_type": "code",
   "execution_count": null,
   "metadata": {},
   "outputs": [],
   "source": [
    "X = df_beer[feature_col].values\n",
    "y = df_beer[meta_col].values\n",
    "X = np.matrix(X)\n",
    "aux1 = np.matmul(X.transpose(),X)\n",
    "inv = np.linalg.inv(aux1)\n",
    "aux2 = np.matmul(X.transpose(),y)\n",
    "theta = np.matmul(inv,aux2)\n",
    "theta"
   ]
  },
  {
   "cell_type": "markdown",
   "metadata": {},
   "source": [
    "# Dump de Modelo"
   ]
  },
  {
   "cell_type": "code",
   "execution_count": null,
   "metadata": {},
   "outputs": [],
   "source": [
    "from sklearn.externals import joblib\n",
    "\n",
    "joblib.dump(mlr_skl, r'C:\\Users\\dheny\\Documents\\FIAP\\Python\\codigos\\lr_model.pkl') \n",
    "lr_model_loaded = joblib.load(r'C:\\Users\\dheny\\Documents\\FIAP\\Python\\codigos\\lr_model.pkl') "
   ]
  },
  {
   "cell_type": "code",
   "execution_count": null,
   "metadata": {},
   "outputs": [],
   "source": [
    "lr_model_loaded.predict([[1,35,0,1]])"
   ]
  },
  {
   "cell_type": "code",
   "execution_count": null,
   "metadata": {},
   "outputs": [],
   "source": []
  }
 ],
 "metadata": {
  "kernelspec": {
   "display_name": "Python 3",
   "language": "python",
   "name": "python3"
  },
  "language_info": {
   "codemirror_mode": {
    "name": "ipython",
    "version": 3
   },
   "file_extension": ".py",
   "mimetype": "text/x-python",
   "name": "python",
   "nbconvert_exporter": "python",
   "pygments_lexer": "ipython3",
   "version": "3.7.5"
  }
 },
 "nbformat": 4,
 "nbformat_minor": 4
}
