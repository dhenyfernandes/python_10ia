{
 "cells": [
  {
   "cell_type": "markdown",
   "metadata": {},
   "source": [
    "# Desafio - Substitutivo"
   ]
  },
  {
   "cell_type": "markdown",
   "metadata": {},
   "source": [
    "### Soma de uma Série\n",
    "\n",
    "Escreva um algoritmo que calcule a soma da seguinte série: $\\frac{1}{1!} + \\frac{2}{2!} + \\cdots + \\frac{n}{n!}$"
   ]
  },
  {
   "cell_type": "code",
   "execution_count": null,
   "metadata": {},
   "outputs": [],
   "source": [
    "def sumOfSeries(num):\n",
    "    \"\"\"Soma uma série de acordo com a equação acima\"\"\"\n",
    "    "
   ]
  },
  {
   "cell_type": "markdown",
   "metadata": {},
   "source": [
    "### Classe Matemática\n",
    "\n",
    "Crie uma classe chamada matemática que conterá duas classes: algébrica e trigonométrica. (Não é herança!!) \n",
    "A classe algébrica deverá implementar as seguintes funções:\n",
    "\n",
    "    1) soma\n",
    "    2) subtração\n",
    "    3) divisão\n",
    "    4) multiplicação\n",
    "    \n",
    "A classe trigonométrica deverá implementar as seguinte funções:\n",
    "\n",
    "    1) seno\n",
    "    2) cosseno\n",
    "    3) tangente\n",
    "    \n",
    "Cada método deve ser escrito de modo a realizar as operações num numpy.array de tamanho n. Para a classe algébrica, os métodos recebem dois numpy.array e retornam um array depois das operações entre eles serem aplicadas. Para a classe trigonométrica, os métodos recebem apenas um array e retornam ele mesmo depois das operações terem sido aplicadas."
   ]
  },
  {
   "cell_type": "code",
   "execution_count": null,
   "metadata": {},
   "outputs": [],
   "source": [
    "class Matematica():\n",
    "    class algebrica():\n",
    "    \n",
    "    class trigonometrica():"
   ]
  }
 ],
 "metadata": {
  "kernelspec": {
   "display_name": "Python 3",
   "language": "python",
   "name": "python3"
  },
  "language_info": {
   "codemirror_mode": {
    "name": "ipython",
    "version": 3
   },
   "file_extension": ".py",
   "mimetype": "text/x-python",
   "name": "python",
   "nbconvert_exporter": "python",
   "pygments_lexer": "ipython3",
   "version": "3.7.5"
  }
 },
 "nbformat": 4,
 "nbformat_minor": 4
}
